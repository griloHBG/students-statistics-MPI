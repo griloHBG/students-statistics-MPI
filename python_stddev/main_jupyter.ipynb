{
 "cells": [
  {
   "cell_type": "code",
   "execution_count": 56,
   "metadata": {
    "collapsed": true,
    "pycharm": {
     "is_executing": false,
     "name": "#%%\n"
    }
   },
   "outputs": [
    {
     "name": "stdout",
     "text": [
      "[g0, g1, g2, g3, g4, g5, g6, g7, g8, g9, g10, g11, g12, g13, g14, g15, g16, g17, g18, g19, g20, g21, g22, g23, g24, g25, g26, g27, g28, g29, g30, g31, g32, g33, g34, g35, g36, g37, g38, g39, g40, g41, g42, g43, g44, g45, g46, g47, g48, g49, g50, g51, g52, g53, g54, g55, g56, g57, g58, g59, g60, g61, g62, g63, g64, g65, g66, g67, g68, g69, g70, g71]\n"
     ],
     "output_type": "stream"
    },
    {
     "data": {
      "text/plain": "[None,\n None,\n None,\n None,\n None,\n None,\n None,\n None,\n None,\n None,\n None,\n None,\n None,\n None,\n None,\n None,\n None,\n None,\n None,\n None,\n None,\n None,\n None,\n None,\n None,\n None,\n None,\n None,\n None,\n None,\n None,\n None,\n None,\n None,\n None,\n None,\n None,\n None,\n None,\n None,\n None,\n None,\n None,\n None,\n None,\n None,\n None,\n None,\n None,\n None,\n None,\n None,\n None,\n None,\n None,\n None,\n None,\n None,\n None,\n None,\n None,\n None,\n None,\n None,\n None,\n None,\n None,\n None,\n None,\n None,\n None,\n None]"
     },
     "metadata": {},
     "output_type": "execute_result",
     "execution_count": 56
    }
   ],
   "source": [
    "import sympy\n",
    "\n",
    "regions = 3\n",
    "cities = 4\n",
    "students = 6\n",
    "\n",
    "total_cities = regions * cities\n",
    "students_per_region = cities * students\n",
    "total_students = regions * cities * students\n",
    "\n",
    "grades = [sympy.symbols('g' + str(i)) for i in range(total_students)]\n",
    "\n",
    "print(grades)\n",
    "\n",
    "grades_num = [30, 40, 20, 80, 85, 10,\n",
    "10, 20, 30, 40, 50, 60,\n",
    "60, 50, 40, 30, 20, 10,\n",
    "70, 55, 35, 80, 95, 27,\n",
    "\n",
    "35, 45, 25, 85, 90, 15,\n",
    "15, 25, 35, 45, 55, 65,\n",
    "65, 55, 45, 35, 25, 15,\n",
    "75, 60, 40, 85, 100, 32,\n",
    "\n",
    "20, 30, 10, 70, 75, 0,\n",
    "0, 10, 20, 30, 40, 50,\n",
    "50, 40, 30, 20, 10, 0,\n",
    "60, 45, 25, 70, 85, 17, ]\n",
    "\n",
    "#mean_cities = [sympy.symbols('mc' + str(i)) for i in range(total_cities)]\n",
    "#stddev_cities = [sympy.symbols('sc' + str(i)) for i in range(total_cities)]\n",
    "#mean_regions = [sympy.symbols('mr' + str(i)) for i in range(regions)]\n",
    "#stddev_regions = [sympy.symbols('sr' + str(i)) for i in range(regions)]\n",
    "\n",
    "mean_cities = [0 for i in range(total_cities)]\n",
    "stddev_cities = [0 for i in range(total_cities)]\n",
    "\n",
    "mean_regions = [0 for i in range(regions)]\n",
    "stddev_regions = [0 for i in range(regions)]\n",
    "\n",
    "mean_country = 0\n",
    "stddev_country = 0\n",
    "\n",
    "for r in range(regions):\n",
    "    for c in range(cities):\n",
    "        for s in range(students):\n",
    "            mean_cities[r*cities + c] = mean_cities[r*cities + c] + grades[r * students_per_region + c * students + s]\n",
    "        mean_cities[r * cities + c] = mean_cities[r*cities + c] / students\n",
    "        mean_regions[r] = mean_regions[r] + mean_cities[r*cities + c]\n",
    "    mean_regions[r] = mean_regions[r] / cities\n",
    "    mean_country = mean_country + mean_regions[r]\n",
    "mean_country = mean_country / regions\n",
    "\n",
    "for r in range(regions):\n",
    "    for c in range(cities):\n",
    "        for s in range(students):\n",
    "            stddev_cities[r*cities + c] = stddev_cities[r*cities + c] + (grades[r * students_per_region + c * students + s] - mean_cities[r * cities + c]) ** 2\n",
    "            stddev_regions[r] = stddev_regions[r] + (grades[r * students_per_region + c * students + s] - mean_regions[r]) ** 2\n",
    "            stddev_country = stddev_country + (grades[r * students_per_region + c * students + s] - mean_country) ** 2\n",
    "        stddev_cities[r * cities + c] = sympy.sqrt(stddev_cities[r * cities + c] / (students - 1))\n",
    "\n",
    "    stddev_regions[r] = sympy.sqrt(stddev_regions[r] / (students_per_region - 1))\n",
    "\n",
    "stddev_country = sympy.sqrt(stddev_country / (total_students - 1))\n",
    "\n",
    "\"\"\"\n",
    "[print(\"mean_cities\", i, mc.simplify()) for i, mc in enumerate(mean_cities)]\n",
    "print()\n",
    "[print(\"mean_regions\", i, mc.simplify()) for i, mc in enumerate(mean_regions)]\n",
    "print()\n",
    "print(\"mean_country\", mean_country)\n",
    "print()\n",
    "[print(\"stddev_cities\", i, mc.simplify()) for i, mc in enumerate(stddev_cities)]\n",
    "print()\n",
    "[print(\"stddev_regions\", i, mc.simplify()) for i, mc in enumerate(stddev_regions)]\n",
    "print()\n",
    "sympy.pprint(stddev_country.simplify())\n",
    "\"\"\"\n",
    "subs = {}\n",
    "\n",
    "[ subs.update({('g'+str(i)):g}) for i, g in enumerate(grades_num) ]"
   ]
  },
  {
   "cell_type": "code",
   "execution_count": 46,
   "outputs": [
    {
     "name": "stdout",
     "text": [
      "mean_cities 0 g0/4 + g1/4 + g2/4 + g3/4\nmean_cities 1 g4/4 + g5/4 + g6/4 + g7/4\nmean_cities 2 g10/4 + g11/4 + g8/4 + g9/4\nmean_cities 3 g12/4 + g13/4 + g14/4 + g15/4\n"
     ],
     "output_type": "stream"
    },
    {
     "data": {
      "text/plain": "[None, None, None, None]"
     },
     "metadata": {},
     "output_type": "execute_result",
     "execution_count": 46
    }
   ],
   "source": [
    "[print(\"mean_cities\", i, mc.simplify()) for i, mc in enumerate(mean_cities)]"
   ],
   "metadata": {
    "collapsed": false,
    "pycharm": {
     "name": "#%%\n",
     "is_executing": false
    }
   }
  },
  {
   "cell_type": "code",
   "execution_count": 47,
   "outputs": [
    {
     "name": "stdout",
     "text": [
      "mean_regions 0 g0/8 + g1/8 + g2/8 + g3/8 + g4/8 + g5/8 + g6/8 + g7/8\nmean_regions 1 g10/8 + g11/8 + g12/8 + g13/8 + g14/8 + g15/8 + g8/8 + g9/8\n"
     ],
     "output_type": "stream"
    },
    {
     "data": {
      "text/plain": "[None, None]"
     },
     "metadata": {},
     "output_type": "execute_result",
     "execution_count": 47
    }
   ],
   "source": [
    "[print(\"mean_regions\", i, mr.simplify()) for i, mr in enumerate(mean_regions)]"
   ],
   "metadata": {
    "collapsed": false,
    "pycharm": {
     "name": "#%%\n",
     "is_executing": false
    }
   }
  },
  {
   "cell_type": "code",
   "execution_count": 48,
   "outputs": [
    {
     "name": "stdout",
     "text": [
      "mean_country g0/16 + g1/16 + g10/16 + g11/16 + g12/16 + g13/16 + g14/16 + g15/16 + g2/16 + g3/16 + g4/16 + g5/16 + g6/16 + g7/16 + g8/16 + g9/16\n"
     ],
     "output_type": "stream"
    }
   ],
   "source": [
    "print(\"mean_country\", mean_country.simplify())"
   ],
   "metadata": {
    "collapsed": false,
    "pycharm": {
     "name": "#%%\n",
     "is_executing": false
    }
   }
  },
  {
   "cell_type": "code",
   "execution_count": 49,
   "outputs": [
    {
     "name": "stdout",
     "text": [
      "stddev_cities 0 sqrt(3)*sqrt((-3*g0 + g1 + g2 + g3)**2 + (g0 - 3*g1 + g2 + g3)**2 + (g0 + g1 - 3*g2 + g3)**2 + (g0 + g1 + g2 - 3*g3)**2)/12\n",
      "stddev_cities 1 sqrt(3)*sqrt((-3*g4 + g5 + g6 + g7)**2 + (g4 - 3*g5 + g6 + g7)**2 + (g4 + g5 - 3*g6 + g7)**2 + (g4 + g5 + g6 - 3*g7)**2)/12\nstddev_cities 2 sqrt(3)*sqrt((-3*g10 + g11 + g8 + g9)**2 + (g10 - 3*g11 + g8 + g9)**2 + (g10 + g11 - 3*g8 + g9)**2 + (g10 + g11 + g8 - 3*g9)**2)/12\n",
      "stddev_cities 3 sqrt(3)*sqrt((-3*g12 + g13 + g14 + g15)**2 + (g12 - 3*g13 + g14 + g15)**2 + (g12 + g13 - 3*g14 + g15)**2 + (g12 + g13 + g14 - 3*g15)**2)/12\n"
     ],
     "output_type": "stream"
    },
    {
     "data": {
      "text/plain": "[None, None, None, None]"
     },
     "metadata": {},
     "output_type": "execute_result",
     "execution_count": 49
    }
   ],
   "source": [
    "[print(\"stddev_cities\", i, sc.simplify()) for i, sc in enumerate(stddev_cities)]"
   ],
   "metadata": {
    "collapsed": false,
    "pycharm": {
     "name": "#%%\n",
     "is_executing": false
    }
   }
  },
  {
   "cell_type": "code",
   "execution_count": 50,
   "outputs": [
    {
     "name": "stdout",
     "text": [
      "stddev_regions 0 sqrt(7)*sqrt((-7*g0 + g1 + g2 + g3 + g4 + g5 + g6 + g7)**2 + (g0 - 7*g1 + g2 + g3 + g4 + g5 + g6 + g7)**2 + (g0 + g1 - 7*g2 + g3 + g4 + g5 + g6 + g7)**2 + (g0 + g1 + g2 - 7*g3 + g4 + g5 + g6 + g7)**2 + (g0 + g1 + g2 + g3 - 7*g4 + g5 + g6 + g7)**2 + (g0 + g1 + g2 + g3 + g4 - 7*g5 + g6 + g7)**2 + (g0 + g1 + g2 + g3 + g4 + g5 - 7*g6 + g7)**2 + (g0 + g1 + g2 + g3 + g4 + g5 + g6 - 7*g7)**2)/56\n",
      "stddev_regions 1 sqrt(7)*sqrt((-7*g10 + g11 + g12 + g13 + g14 + g15 + g8 + g9)**2 + (g10 - 7*g11 + g12 + g13 + g14 + g15 + g8 + g9)**2 + (g10 + g11 - 7*g12 + g13 + g14 + g15 + g8 + g9)**2 + (g10 + g11 + g12 - 7*g13 + g14 + g15 + g8 + g9)**2 + (g10 + g11 + g12 + g13 - 7*g14 + g15 + g8 + g9)**2 + (g10 + g11 + g12 + g13 + g14 - 7*g15 + g8 + g9)**2 + (g10 + g11 + g12 + g13 + g14 + g15 - 7*g8 + g9)**2 + (g10 + g11 + g12 + g13 + g14 + g15 + g8 - 7*g9)**2)/56\n"
     ],
     "output_type": "stream"
    },
    {
     "data": {
      "text/plain": "[None, None]"
     },
     "metadata": {},
     "output_type": "execute_result",
     "execution_count": 50
    }
   ],
   "source": [
    "[print(\"stddev_regions\", i, sr.simplify()) for i, sr in enumerate(stddev_regions)]"
   ],
   "metadata": {
    "collapsed": false,
    "pycharm": {
     "name": "#%%\n",
     "is_executing": false
    }
   }
  },
  {
   "cell_type": "code",
   "execution_count": 51,
   "outputs": [
    {
     "name": "stdout",
     "text": [
      "   ___________________________________________________________________________\n  ╱       2                                                                   \n╲╱  225⋅g₀  - 30⋅g₀⋅g₁ - 30⋅g₀⋅g₁₀ - 30⋅g₀⋅g₁₁ - 30⋅g₀⋅g₁₂ - 30⋅g₀⋅g₁₃ - 30⋅g₀\n──────────────────────────────────────────────────────────────────────────────\n                                                                              \n\n______________________________________________________________________________\n                                                                              \n⋅g₁₄ - 30⋅g₀⋅g₁₅ - 30⋅g₀⋅g₂ - 30⋅g₀⋅g₃ - 30⋅g₀⋅g₄ - 30⋅g₀⋅g₅ - 30⋅g₀⋅g₆ - 30⋅g\n──────────────────────────────────────────────────────────────────────────────\n                                                                              \n\n______________________________________________________________________________\n                                   2                                          \n₀⋅g₇ - 30⋅g₀⋅g₈ - 30⋅g₀⋅g₉ + 225⋅g₁  - 30⋅g₁⋅g₁₀ - 30⋅g₁⋅g₁₁ - 30⋅g₁⋅g₁₂ - 30⋅\n──────────────────────────────────────────────────────────────────────────────\n                                                                              \n\n______________________________________________________________________________\n                                                                              \ng₁⋅g₁₃ - 30⋅g₁⋅g₁₄ - 30⋅g₁⋅g₁₅ - 30⋅g₁⋅g₂ - 30⋅g₁⋅g₃ - 30⋅g₁⋅g₄ - 30⋅g₁⋅g₅ - 3\n──────────────────────────────────────────────────────────────────────────────\n                                                                              \n\n______________________________________________________________________________\n                                                  2                           \n0⋅g₁⋅g₆ - 30⋅g₁⋅g₇ - 30⋅g₁⋅g₈ - 30⋅g₁⋅g₉ + 225⋅g₁₀  - 30⋅g₁₀⋅g₁₁ - 30⋅g₁₀⋅g₁₂ \n──────────────────────────────────────────────────────────────────────────────\n                                                                              \n\n______________________________________________________________________________\n                                                                              \n- 30⋅g₁₀⋅g₁₃ - 30⋅g₁₀⋅g₁₄ - 30⋅g₁₀⋅g₁₅ - 30⋅g₁₀⋅g₂ - 30⋅g₁₀⋅g₃ - 30⋅g₁₀⋅g₄ - 3\n──────────────────────────────────────────────────────────────────────────────\n                                                                              \n\n______________________________________________________________________________\n                                                                  2           \n0⋅g₁₀⋅g₅ - 30⋅g₁₀⋅g₆ - 30⋅g₁₀⋅g₇ - 30⋅g₁₀⋅g₈ - 30⋅g₁₀⋅g₉ + 225⋅g₁₁  - 30⋅g₁₁⋅g\n──────────────────────────────────────────────────────────────────────────────\n                                                                              \n\n______________________________________________________________________________\n                                                                              \n₁₂ - 30⋅g₁₁⋅g₁₃ - 30⋅g₁₁⋅g₁₄ - 30⋅g₁₁⋅g₁₅ - 30⋅g₁₁⋅g₂ - 30⋅g₁₁⋅g₃ - 30⋅g₁₁⋅g₄ \n──────────────────────────────────────────────────────────────────────────────\n                                                                              \n\n______________________________________________________________________________\n                                                                     2        \n- 30⋅g₁₁⋅g₅ - 30⋅g₁₁⋅g₆ - 30⋅g₁₁⋅g₇ - 30⋅g₁₁⋅g₈ - 30⋅g₁₁⋅g₉ + 225⋅g₁₂  - 30⋅g₁\n──────────────────────────────────────────────────────────────────────────────\n                                                                              \n\n______________________________________________________________________________\n                                                                              \n₂⋅g₁₃ - 30⋅g₁₂⋅g₁₄ - 30⋅g₁₂⋅g₁₅ - 30⋅g₁₂⋅g₂ - 30⋅g₁₂⋅g₃ - 30⋅g₁₂⋅g₄ - 30⋅g₁₂⋅g\n──────────────────────────────────────────────────────────────────────────────\n                                                                              \n\n______________________________________________________________________________\n                                                           2                  \n₅ - 30⋅g₁₂⋅g₆ - 30⋅g₁₂⋅g₇ - 30⋅g₁₂⋅g₈ - 30⋅g₁₂⋅g₉ + 225⋅g₁₃  - 30⋅g₁₃⋅g₁₄ - 30\n──────────────────────────────────────────────────────────────────────────────\n        60                                                                    \n\n______________________________________________________________________________\n                                                                              \n⋅g₁₃⋅g₁₅ - 30⋅g₁₃⋅g₂ - 30⋅g₁₃⋅g₃ - 30⋅g₁₃⋅g₄ - 30⋅g₁₃⋅g₅ - 30⋅g₁₃⋅g₆ - 30⋅g₁₃⋅\n──────────────────────────────────────────────────────────────────────────────\n                                                                              \n\n______________________________________________________________________________\n                                    2                                         \ng₇ - 30⋅g₁₃⋅g₈ - 30⋅g₁₃⋅g₉ + 225⋅g₁₄  - 30⋅g₁₄⋅g₁₅ - 30⋅g₁₄⋅g₂ - 30⋅g₁₄⋅g₃ - 3\n──────────────────────────────────────────────────────────────────────────────\n                                                                              \n\n______________________________________________________________________________\n                                                                              \n0⋅g₁₄⋅g₄ - 30⋅g₁₄⋅g₅ - 30⋅g₁₄⋅g₆ - 30⋅g₁₄⋅g₇ - 30⋅g₁₄⋅g₈ - 30⋅g₁₄⋅g₉ + 225⋅g₁₅\n──────────────────────────────────────────────────────────────────────────────\n                                                                              \n\n______________________________________________________________________________\n2                                                                             \n  - 30⋅g₁₅⋅g₂ - 30⋅g₁₅⋅g₃ - 30⋅g₁₅⋅g₄ - 30⋅g₁₅⋅g₅ - 30⋅g₁₅⋅g₆ - 30⋅g₁₅⋅g₇ - 30\n──────────────────────────────────────────────────────────────────────────────\n                                                                              \n\n______________________________________________________________________________\n                            2                                                 \n⋅g₁₅⋅g₈ - 30⋅g₁₅⋅g₉ + 225⋅g₂  - 30⋅g₂⋅g₃ - 30⋅g₂⋅g₄ - 30⋅g₂⋅g₅ - 30⋅g₂⋅g₆ - 30\n──────────────────────────────────────────────────────────────────────────────\n                                                                              \n\n______________________________________________________________________________\n                                     2                                        \n⋅g₂⋅g₇ - 30⋅g₂⋅g₈ - 30⋅g₂⋅g₉ + 225⋅g₃  - 30⋅g₃⋅g₄ - 30⋅g₃⋅g₅ - 30⋅g₃⋅g₆ - 30⋅g\n──────────────────────────────────────────────────────────────────────────────\n                                                                              \n\n______________________________________________________________________________\n                                   2                                          \n₃⋅g₇ - 30⋅g₃⋅g₈ - 30⋅g₃⋅g₉ + 225⋅g₄  - 30⋅g₄⋅g₅ - 30⋅g₄⋅g₆ - 30⋅g₄⋅g₇ - 30⋅g₄⋅\n──────────────────────────────────────────────────────────────────────────────\n                                                                              \n\n______________________________________________________________________________\n                      2                                                     2 \ng₈ - 30⋅g₄⋅g₉ + 225⋅g₅  - 30⋅g₅⋅g₆ - 30⋅g₅⋅g₇ - 30⋅g₅⋅g₈ - 30⋅g₅⋅g₉ + 225⋅g₆  \n──────────────────────────────────────────────────────────────────────────────\n                                                                              \n\n______________________________________________________________________________\n                                         2                               2    \n- 30⋅g₆⋅g₇ - 30⋅g₆⋅g₈ - 30⋅g₆⋅g₉ + 225⋅g₇  - 30⋅g₇⋅g₈ - 30⋅g₇⋅g₉ + 225⋅g₈  - 3\n──────────────────────────────────────────────────────────────────────────────\n                                                                              \n\n__________________\n                2 \n0⋅g₈⋅g₉ + 225⋅g₉  \n──────────────────\n                  \n"
     ],
     "output_type": "stream"
    }
   ],
   "source": [
    "sympy.pprint(stddev_country.expand().simplify())"
   ],
   "metadata": {
    "collapsed": false,
    "pycharm": {
     "name": "#%%\n",
     "is_executing": false
    }
   }
  },
  {
   "cell_type": "code",
   "execution_count": 52,
   "outputs": [
    {
     "data": {
      "text/plain": "'\\n\\n[print(\"mean_cities\", i, mc) for i, mc in enumerate(mean_cities)]\\n\\n[print(\"mean_regions\", i, mr) for i, mr in enumerate(mean_regions)]\\n\\nprint(\"mean_country\", mean_country)\\n\\n[print(\"stddev_cities\", i, sc) for i, sc in enumerate(stddev_cities)]\\n\\n[print(\"stddev_regions\", i, sr) for i, sr in enumerate(stddev_regions)]\\n\\nsympy.pprint(stddev_country)'"
     },
     "metadata": {},
     "output_type": "execute_result",
     "execution_count": 52
    }
   ],
   "source": [
    "\"\"\"\n",
    "\n",
    "[print(\"mean_cities\", i, mc) for i, mc in enumerate(mean_cities)]\n",
    "\n",
    "[print(\"mean_regions\", i, mr) for i, mr in enumerate(mean_regions)]\n",
    "\n",
    "print(\"mean_country\", mean_country)\n",
    "\n",
    "[print(\"stddev_cities\", i, sc) for i, sc in enumerate(stddev_cities)]\n",
    "\n",
    "[print(\"stddev_regions\", i, sr) for i, sr in enumerate(stddev_regions)]\n",
    "\n",
    "sympy.pprint(stddev_country)\"\"\"\n"
   ],
   "metadata": {
    "collapsed": false,
    "pycharm": {
     "name": "#%%\n",
     "is_executing": false
    }
   }
  },
  {
   "cell_type": "code",
   "execution_count": 57,
   "outputs": [
    {
     "name": "stdout",
     "text": [
      "31.371430739873286\n18.708286933869708\n18.708286933869708\n26.318561257535844\n31.371430739873286\n18.708286933869708\n18.708286933869708\n26.318561257535844\n31.371430739873286\n18.708286933869708\n18.708286933869708\n26.318561257535844\n"
     ],
     "output_type": "stream"
    }
   ],
   "source": [
    "import math\n",
    "\n",
    "def stddev_custom(array):\n",
    "    Q = 0\n",
    "    N = len(array)\n",
    "    for j in range(N):\n",
    "        for i in range(j+1, N):\n",
    "            Q = Q + (array[i] - array[j])*(array[i] - array[j])\n",
    "            \n",
    "    return math.sqrt(Q/(N*(N-1)))\n",
    "        \n",
    "stddev_custom(grades_num)\n",
    "for i in range(0,regions*cities*students,6):\n",
    "    print(stddev_custom(grades_num[(i):(i+6)]))\n"
   ],
   "metadata": {
    "collapsed": false,
    "pycharm": {
     "name": "#%%\n",
     "is_executing": false
    }
   }
  }
 ],
 "metadata": {
  "kernelspec": {
   "display_name": "Python 3",
   "language": "python",
   "name": "python3"
  },
  "language_info": {
   "codemirror_mode": {
    "name": "ipython",
    "version": 2
   },
   "file_extension": ".py",
   "mimetype": "text/x-python",
   "name": "python",
   "nbconvert_exporter": "python",
   "pygments_lexer": "ipython2",
   "version": "2.7.6"
  },
  "pycharm": {
   "stem_cell": {
    "cell_type": "raw",
    "source": [],
    "metadata": {
     "collapsed": false
    }
   }
  }
 },
 "nbformat": 4,
 "nbformat_minor": 0
}